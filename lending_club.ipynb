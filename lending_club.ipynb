{
 "cells": [
  {
   "cell_type": "markdown",
   "metadata": {
    "collapsed": true
   },
   "source": [
    "Credit has played a key role in the economy for centuries and some form of credit has existed since the beginning of commerce. We'll be working with financial lending data from Lending Club. Lending Club is a marketplace for personal loans that matches borrowers who are seeking a loan with investors looking to lend money and make a return. You can read more about their marketplace here.\n",
    "\n",
    "Each borrower fills out a comprehensive application, providing their past financial history, the reason for the loan, and more. Lending Club evaluates each borrower's credit score using past historical data (and their own data science process!) and assign an interest rate to the borrower. The interest rate is the percent in addition to the requested loan amount the borrower has to pay back. You can read more about the interest rate that Lending Club assigns here. Lending Club also tries to verify each piece of information the borrower provides but it can't always verify all of the information (usually for regulation reasons).\n",
    "\n",
    "A higher interest rate means that the borrower is riskier and more unlikely to pay back the loan while a lower interest rate means that the borrower has a good credit history is more likely to pay back the loan. The interest rates range from 5.32% all the way to 30.99% and each borrower is given a grade according to the interest rate they were assigned. If the borrower accepts the interest rate, then the loan is listed on the Lending Club marketplace.\n",
    "\n",
    "Investors are primarily interested in receiveing a return on their investments. Approved loans are listed on the Lending Club website, where qualified investors can browse recently approved loans, the borrower's credit score, the purpose for the loan, and other information from the application. Once they're ready to back a loan, they select the amount of money they want to fund. Once a loan's requested amount is fully funded, the borrower receives the money they requested minus the origination fee that Lending Club charges.\n",
    "\n",
    "The borrower then makes monthly payments back to Lending Club either over 36 months or over 60 months. Lending Club redistributes these payments to the investors. This means that investors don't have to wait until the full amount is paid off to start to see money back. If a loan is fully paid off on time, the investors make a return which corresponds to the interest rate the borrower had to pay in addition the requested amount. Many loans aren't completely paid off on time, however, and some borrowers default on the loan.\n",
    "\n",
    "While Lending Club has to be extremely savvy and rigorous with their credit modelling, investors on Lending Club need to be equally as savvy about determining which loans are more likely to be paid off. While at first, you may wonder why investors would put money into anything but low interest loans. The incentive investors have to back higher interest loans is, well, the higher interest! If investors believe the borrower can pay back the loan, even if he or she has a weak financial history, then investors can make more money through the larger additional amount the borrower has to pay.\n",
    "\n",
    "Most investors use a portfolio strategy to invest small amounts in many loans, with healthy mixes of low, medium, and interest loans. In this project, we'll focus on the mindset of a conservative investor who only wants to invest in the loans that have a good chance of being paid off on time. To do that, we'll need to first understand the features in the dataset and then experiment with building machine learning models that reliably predict if a loan will be paid off or not.\n"
   ]
  },
  {
   "cell_type": "markdown",
   "metadata": {},
   "source": [
    "Data dictionary: https://docs.google.com/spreadsheets/d/191B2yJ4H1ZPXq0_ByhUgWMFZOYem5jFz0Y3by_7YBY4/edit#gid=2081333097\n",
    "\n",
    "*** Can we build a machine learning model that can accurately predict if a borrower will pay off their loan on time or not? ***"
   ]
  },
  {
   "cell_type": "markdown",
   "metadata": {},
   "source": [
    "First Let's load the data and do some quick checks:"
   ]
  },
  {
   "cell_type": "code",
   "execution_count": 86,
   "metadata": {
    "collapsed": false
   },
   "outputs": [],
   "source": [
    "%matplotlib inline\n",
    "\n",
    "import numpy as np\n",
    "import pandas as pd\n",
    "import matplotlib.pyplot as plt\n",
    "\n",
    "from sklearn.linear_model import LogisticRegression\n",
    "from sklearn.ensemble import RandomForestClassifier\n",
    "from sklearn.cross_validation import KFold\n",
    "from sklearn.cross_validation import cross_val_predict\n",
    "from sklearn import pipeline, grid_search\n",
    "from sklearn.preprocessing import StandardScaler\n",
    "from sklearn.cross_validation import train_test_split\n",
    "from sklearn.metrics import confusion_matrix\n",
    "from sklearn.metrics import auc\n",
    "from sklearn.metrics import roc_curve\n",
    "\n",
    "from nltk.stem.snowball import SnowballStemmer\n",
    "from nltk.tokenize import word_tokenize\n",
    "from sklearn.feature_extraction.text import TfidfVectorizer\n",
    "from sklearn.decomposition import TruncatedSVD\n",
    "from nltk.corpus import stopwords\n",
    "from nltk.tokenize import RegexpTokenizer"
   ]
  },
  {
   "cell_type": "code",
   "execution_count": 87,
   "metadata": {
    "collapsed": false
   },
   "outputs": [
    {
     "name": "stderr",
     "output_type": "stream",
     "text": [
      "C:\\Anaconda3\\lib\\site-packages\\IPython\\core\\interactiveshell.py:2723: DtypeWarning: Columns (0,47) have mixed types. Specify dtype option on import or set low_memory=False.\n",
      "  interactivity=interactivity, compiler=compiler, result=result)\n"
     ]
    }
   ],
   "source": [
    "loan_df = pd.read_csv(\".\\\\data\\\\LoanStats3a.csv\")"
   ]
  },
  {
   "cell_type": "code",
   "execution_count": 88,
   "metadata": {
    "collapsed": false
   },
   "outputs": [
    {
     "data": {
      "text/plain": [
       "(42538, 111)"
      ]
     },
     "execution_count": 88,
     "metadata": {},
     "output_type": "execute_result"
    }
   ],
   "source": [
    "loan_df.shape"
   ]
  },
  {
   "cell_type": "code",
   "execution_count": 89,
   "metadata": {
    "collapsed": false,
    "scrolled": false
   },
   "outputs": [
    {
     "data": {
      "text/html": [
       "<div>\n",
       "<table border=\"1\" class=\"dataframe\">\n",
       "  <thead>\n",
       "    <tr style=\"text-align: right;\">\n",
       "      <th></th>\n",
       "      <th>id</th>\n",
       "      <th>member_id</th>\n",
       "      <th>loan_amnt</th>\n",
       "      <th>funded_amnt</th>\n",
       "      <th>funded_amnt_inv</th>\n",
       "      <th>term</th>\n",
       "      <th>int_rate</th>\n",
       "      <th>installment</th>\n",
       "      <th>grade</th>\n",
       "      <th>sub_grade</th>\n",
       "      <th>...</th>\n",
       "      <th>num_tl_90g_dpd_24m</th>\n",
       "      <th>num_tl_op_past_12m</th>\n",
       "      <th>pct_tl_nvr_dlq</th>\n",
       "      <th>percent_bc_gt_75</th>\n",
       "      <th>pub_rec_bankruptcies</th>\n",
       "      <th>tax_liens</th>\n",
       "      <th>tot_hi_cred_lim</th>\n",
       "      <th>total_bal_ex_mort</th>\n",
       "      <th>total_bc_limit</th>\n",
       "      <th>total_il_high_credit_limit</th>\n",
       "    </tr>\n",
       "  </thead>\n",
       "  <tbody>\n",
       "    <tr>\n",
       "      <th>0</th>\n",
       "      <td>1077501</td>\n",
       "      <td>1296599.0</td>\n",
       "      <td>5000.0</td>\n",
       "      <td>5000.0</td>\n",
       "      <td>4975.0</td>\n",
       "      <td>36 months</td>\n",
       "      <td>10.65%</td>\n",
       "      <td>162.87</td>\n",
       "      <td>B</td>\n",
       "      <td>B2</td>\n",
       "      <td>...</td>\n",
       "      <td>NaN</td>\n",
       "      <td>NaN</td>\n",
       "      <td>NaN</td>\n",
       "      <td>NaN</td>\n",
       "      <td>0.0</td>\n",
       "      <td>0.0</td>\n",
       "      <td>NaN</td>\n",
       "      <td>NaN</td>\n",
       "      <td>NaN</td>\n",
       "      <td>NaN</td>\n",
       "    </tr>\n",
       "    <tr>\n",
       "      <th>1</th>\n",
       "      <td>1077430</td>\n",
       "      <td>1314167.0</td>\n",
       "      <td>2500.0</td>\n",
       "      <td>2500.0</td>\n",
       "      <td>2500.0</td>\n",
       "      <td>60 months</td>\n",
       "      <td>15.27%</td>\n",
       "      <td>59.83</td>\n",
       "      <td>C</td>\n",
       "      <td>C4</td>\n",
       "      <td>...</td>\n",
       "      <td>NaN</td>\n",
       "      <td>NaN</td>\n",
       "      <td>NaN</td>\n",
       "      <td>NaN</td>\n",
       "      <td>0.0</td>\n",
       "      <td>0.0</td>\n",
       "      <td>NaN</td>\n",
       "      <td>NaN</td>\n",
       "      <td>NaN</td>\n",
       "      <td>NaN</td>\n",
       "    </tr>\n",
       "    <tr>\n",
       "      <th>2</th>\n",
       "      <td>1077175</td>\n",
       "      <td>1313524.0</td>\n",
       "      <td>2400.0</td>\n",
       "      <td>2400.0</td>\n",
       "      <td>2400.0</td>\n",
       "      <td>36 months</td>\n",
       "      <td>15.96%</td>\n",
       "      <td>84.33</td>\n",
       "      <td>C</td>\n",
       "      <td>C5</td>\n",
       "      <td>...</td>\n",
       "      <td>NaN</td>\n",
       "      <td>NaN</td>\n",
       "      <td>NaN</td>\n",
       "      <td>NaN</td>\n",
       "      <td>0.0</td>\n",
       "      <td>0.0</td>\n",
       "      <td>NaN</td>\n",
       "      <td>NaN</td>\n",
       "      <td>NaN</td>\n",
       "      <td>NaN</td>\n",
       "    </tr>\n",
       "    <tr>\n",
       "      <th>3</th>\n",
       "      <td>1076863</td>\n",
       "      <td>1277178.0</td>\n",
       "      <td>10000.0</td>\n",
       "      <td>10000.0</td>\n",
       "      <td>10000.0</td>\n",
       "      <td>36 months</td>\n",
       "      <td>13.49%</td>\n",
       "      <td>339.31</td>\n",
       "      <td>C</td>\n",
       "      <td>C1</td>\n",
       "      <td>...</td>\n",
       "      <td>NaN</td>\n",
       "      <td>NaN</td>\n",
       "      <td>NaN</td>\n",
       "      <td>NaN</td>\n",
       "      <td>0.0</td>\n",
       "      <td>0.0</td>\n",
       "      <td>NaN</td>\n",
       "      <td>NaN</td>\n",
       "      <td>NaN</td>\n",
       "      <td>NaN</td>\n",
       "    </tr>\n",
       "    <tr>\n",
       "      <th>4</th>\n",
       "      <td>1075358</td>\n",
       "      <td>1311748.0</td>\n",
       "      <td>3000.0</td>\n",
       "      <td>3000.0</td>\n",
       "      <td>3000.0</td>\n",
       "      <td>60 months</td>\n",
       "      <td>12.69%</td>\n",
       "      <td>67.79</td>\n",
       "      <td>B</td>\n",
       "      <td>B5</td>\n",
       "      <td>...</td>\n",
       "      <td>NaN</td>\n",
       "      <td>NaN</td>\n",
       "      <td>NaN</td>\n",
       "      <td>NaN</td>\n",
       "      <td>0.0</td>\n",
       "      <td>0.0</td>\n",
       "      <td>NaN</td>\n",
       "      <td>NaN</td>\n",
       "      <td>NaN</td>\n",
       "      <td>NaN</td>\n",
       "    </tr>\n",
       "  </tbody>\n",
       "</table>\n",
       "<p>5 rows × 111 columns</p>\n",
       "</div>"
      ],
      "text/plain": [
       "        id  member_id  loan_amnt  funded_amnt  funded_amnt_inv        term  \\\n",
       "0  1077501  1296599.0     5000.0       5000.0           4975.0   36 months   \n",
       "1  1077430  1314167.0     2500.0       2500.0           2500.0   60 months   \n",
       "2  1077175  1313524.0     2400.0       2400.0           2400.0   36 months   \n",
       "3  1076863  1277178.0    10000.0      10000.0          10000.0   36 months   \n",
       "4  1075358  1311748.0     3000.0       3000.0           3000.0   60 months   \n",
       "\n",
       "  int_rate  installment grade sub_grade            ...              \\\n",
       "0   10.65%       162.87     B        B2            ...               \n",
       "1   15.27%        59.83     C        C4            ...               \n",
       "2   15.96%        84.33     C        C5            ...               \n",
       "3   13.49%       339.31     C        C1            ...               \n",
       "4   12.69%        67.79     B        B5            ...               \n",
       "\n",
       "  num_tl_90g_dpd_24m num_tl_op_past_12m pct_tl_nvr_dlq  percent_bc_gt_75  \\\n",
       "0                NaN                NaN            NaN               NaN   \n",
       "1                NaN                NaN            NaN               NaN   \n",
       "2                NaN                NaN            NaN               NaN   \n",
       "3                NaN                NaN            NaN               NaN   \n",
       "4                NaN                NaN            NaN               NaN   \n",
       "\n",
       "  pub_rec_bankruptcies tax_liens tot_hi_cred_lim total_bal_ex_mort  \\\n",
       "0                  0.0       0.0             NaN               NaN   \n",
       "1                  0.0       0.0             NaN               NaN   \n",
       "2                  0.0       0.0             NaN               NaN   \n",
       "3                  0.0       0.0             NaN               NaN   \n",
       "4                  0.0       0.0             NaN               NaN   \n",
       "\n",
       "  total_bc_limit total_il_high_credit_limit  \n",
       "0            NaN                        NaN  \n",
       "1            NaN                        NaN  \n",
       "2            NaN                        NaN  \n",
       "3            NaN                        NaN  \n",
       "4            NaN                        NaN  \n",
       "\n",
       "[5 rows x 111 columns]"
      ]
     },
     "execution_count": 89,
     "metadata": {},
     "output_type": "execute_result"
    }
   ],
   "source": [
    "loan_df.head()"
   ]
  },
  {
   "cell_type": "markdown",
   "metadata": {},
   "source": [
    "Let's start getting rid of useless columns, by useless columns I mean columns that:\n",
    "\n",
    "* leak information from the future (after the loan has already been funded)\n",
    "* don't affect a borrower's ability to pay back a loan (e.g. a randomly generated ID value by Lending Club)\n",
    "* formatted poorly and need to be cleaned up\n",
    "* require more data or a lot of processing to turn into a useful feature\n",
    "* contain redundant information"
   ]
  },
  {
   "cell_type": "markdown",
   "metadata": {},
   "source": [
    "removing the desc column (which contains a long text explanation for each loan) and removing the url column (which contains a link to each loan on Lending Club which can only be accessed with an investor account)"
   ]
  },
  {
   "cell_type": "code",
   "execution_count": 90,
   "metadata": {
    "collapsed": false
   },
   "outputs": [],
   "source": [
    "loan_df = loan_df.drop(['desc', 'url'],axis=1)"
   ]
  },
  {
   "cell_type": "markdown",
   "metadata": {},
   "source": [
    "removing duplicates if any"
   ]
  },
  {
   "cell_type": "code",
   "execution_count": 91,
   "metadata": {
    "collapsed": false
   },
   "outputs": [
    {
     "name": "stdout",
     "output_type": "stream",
     "text": [
      "(42538, 109)\n",
      "Removing duplicates if any ...\n",
      "(42538, 109)\n"
     ]
    }
   ],
   "source": [
    "print(loan_df.shape)\n",
    "print(\"Removing duplicates if any ...\")\n",
    "loan_df.drop_duplicates()\n",
    "print(loan_df.shape)"
   ]
  },
  {
   "cell_type": "markdown",
   "metadata": {
    "collapsed": true
   },
   "source": [
    "Dropping columns that are reduntant or leak data"
   ]
  },
  {
   "cell_type": "code",
   "execution_count": 92,
   "metadata": {
    "collapsed": true
   },
   "outputs": [],
   "source": [
    "loan_df.drop(['id','member_id','funded_amnt','funded_amnt_inv','grade','sub_grade',\n",
    "              'issue_d','zip_code','out_prncp','out_prncp_inv','total_pymnt','total_pymnt_inv',\n",
    "              'total_rec_prncp','total_rec_int','total_rec_late_fee','recoveries','collection_recovery_fee',\n",
    "              'last_pymnt_d','last_pymnt_amnt'], axis=1,inplace=True)"
   ]
  },
  {
   "cell_type": "code",
   "execution_count": 93,
   "metadata": {
    "collapsed": false
   },
   "outputs": [
    {
     "data": {
      "text/plain": [
       "(42538, 90)"
      ]
     },
     "execution_count": 93,
     "metadata": {},
     "output_type": "execute_result"
    }
   ],
   "source": [
    "loan_df.shape"
   ]
  },
  {
   "cell_type": "markdown",
   "metadata": {},
   "source": [
    "Dropping columns with more than 90% missing values"
   ]
  },
  {
   "cell_type": "code",
   "execution_count": 94,
   "metadata": {
    "collapsed": false
   },
   "outputs": [
    {
     "data": {
      "text/plain": [
       "['acc_open_past_24mths',\n",
       " 'all_util',\n",
       " 'annual_inc_joint',\n",
       " 'avg_cur_bal',\n",
       " 'bc_open_to_buy',\n",
       " 'bc_util',\n",
       " 'dti_joint',\n",
       " 'il_util',\n",
       " 'inq_fi',\n",
       " 'inq_last_12m',\n",
       " 'max_bal_bc',\n",
       " 'mo_sin_old_il_acct',\n",
       " 'mo_sin_old_rev_tl_op',\n",
       " 'mo_sin_rcnt_rev_tl_op',\n",
       " 'mo_sin_rcnt_tl',\n",
       " 'mort_acc',\n",
       " 'mths_since_last_major_derog',\n",
       " 'mths_since_last_record',\n",
       " 'mths_since_rcnt_il',\n",
       " 'mths_since_recent_bc',\n",
       " 'mths_since_recent_bc_dlq',\n",
       " 'mths_since_recent_inq',\n",
       " 'mths_since_recent_revol_delinq',\n",
       " 'next_pymnt_d',\n",
       " 'num_accts_ever_120_pd',\n",
       " 'num_actv_bc_tl',\n",
       " 'num_actv_rev_tl',\n",
       " 'num_bc_sats',\n",
       " 'num_bc_tl',\n",
       " 'num_il_tl',\n",
       " 'num_op_rev_tl',\n",
       " 'num_rev_accts',\n",
       " 'num_rev_tl_bal_gt_0',\n",
       " 'num_sats',\n",
       " 'num_tl_120dpd_2m',\n",
       " 'num_tl_30dpd',\n",
       " 'num_tl_90g_dpd_24m',\n",
       " 'num_tl_op_past_12m',\n",
       " 'open_acc_6m',\n",
       " 'open_il_12m',\n",
       " 'open_il_24m',\n",
       " 'open_il_6m',\n",
       " 'open_rv_12m',\n",
       " 'open_rv_24m',\n",
       " 'pct_tl_nvr_dlq',\n",
       " 'percent_bc_gt_75',\n",
       " 'tot_coll_amt',\n",
       " 'tot_cur_bal',\n",
       " 'tot_hi_cred_lim',\n",
       " 'total_bal_ex_mort',\n",
       " 'total_bal_il',\n",
       " 'total_bc_limit',\n",
       " 'total_cu_tl',\n",
       " 'total_il_high_credit_limit',\n",
       " 'total_rev_hi_lim',\n",
       " 'verification_status_joint']"
      ]
     },
     "execution_count": 94,
     "metadata": {},
     "output_type": "execute_result"
    }
   ],
   "source": [
    "# check for columns with 90% of missing values\n",
    "percent = 0.9\n",
    "over_ninety_percernt_ma = loan_df.isnull().sum()[loan_df.isnull().sum() /  loan_df.shape[0] > percent].index.tolist()\n",
    "loan_df.drop(over_ninety_percernt_ma, axis=1,inplace=True)\n",
    "over_ninety_percernt_ma.sort()\n",
    "over_ninety_percernt_ma"
   ]
  },
  {
   "cell_type": "code",
   "execution_count": 95,
   "metadata": {
    "collapsed": false
   },
   "outputs": [
    {
     "data": {
      "text/plain": [
       "(42538, 34)"
      ]
     },
     "execution_count": 95,
     "metadata": {},
     "output_type": "execute_result"
    }
   ],
   "source": [
    "loan_df.shape"
   ]
  },
  {
   "cell_type": "code",
   "execution_count": 96,
   "metadata": {
    "collapsed": false
   },
   "outputs": [
    {
     "data": {
      "text/plain": [
       "Index(['loan_amnt', 'term', 'int_rate', 'installment', 'emp_title',\n",
       "       'emp_length', 'home_ownership', 'annual_inc', 'verification_status',\n",
       "       'loan_status', 'pymnt_plan', 'purpose', 'title', 'addr_state', 'dti',\n",
       "       'delinq_2yrs', 'earliest_cr_line', 'inq_last_6mths',\n",
       "       'mths_since_last_delinq', 'open_acc', 'pub_rec', 'revol_bal',\n",
       "       'revol_util', 'total_acc', 'initial_list_status', 'last_credit_pull_d',\n",
       "       'collections_12_mths_ex_med', 'policy_code', 'application_type',\n",
       "       'acc_now_delinq', 'chargeoff_within_12_mths', 'delinq_amnt',\n",
       "       'pub_rec_bankruptcies', 'tax_liens'],\n",
       "      dtype='object')"
      ]
     },
     "execution_count": 96,
     "metadata": {},
     "output_type": "execute_result"
    }
   ],
   "source": [
    "loan_df.columns"
   ]
  },
  {
   "cell_type": "markdown",
   "metadata": {},
   "source": [
    "Now let's focus on the target column.\n",
    "\n",
    "Since we're interesting in being able to predict which of these 2 values a loan will fall under, we can treat the problem as a binary classification one. Let's remove all the loans that don't contain either Fully Paid and Charged Off as the loan's status and then transform the Fully Paid values to 1 for the positive case and the Charged Off values to 0 for the negative case"
   ]
  },
  {
   "cell_type": "code",
   "execution_count": 97,
   "metadata": {
    "collapsed": false
   },
   "outputs": [
    {
     "data": {
      "text/plain": [
       "Fully Paid                                             33586\n",
       "Charged Off                                             5653\n",
       "Does not meet the credit policy. Status:Fully Paid      1988\n",
       "Does not meet the credit policy. Status:Charged Off      761\n",
       "Current                                                  513\n",
       "In Grace Period                                           16\n",
       "Late (31-120 days)                                        12\n",
       "Late (16-30 days)                                          5\n",
       "Default                                                    1\n",
       "Name: loan_status, dtype: int64"
      ]
     },
     "execution_count": 97,
     "metadata": {},
     "output_type": "execute_result"
    }
   ],
   "source": [
    "#target coluumn\n",
    "loan_df.loan_status.value_counts()"
   ]
  },
  {
   "cell_type": "code",
   "execution_count": 98,
   "metadata": {
    "collapsed": false
   },
   "outputs": [
    {
     "data": {
      "text/plain": [
       "1    33586\n",
       "0     5653\n",
       "Name: loan_status, dtype: int64"
      ]
     },
     "execution_count": 98,
     "metadata": {},
     "output_type": "execute_result"
    }
   ],
   "source": [
    "# keep \"Full Paid\" and \"Charged Off\"\n",
    "loan_df = loan_df[loan_df[\"loan_status\"].isin([\"Fully Paid\",\"Charged Off\"])]\n",
    "mapping_dict = {\n",
    "    \"loan_status\": {\n",
    "        \"Fully Paid\": 1,\n",
    "        \"Charged Off\": 0,\n",
    "    }\n",
    "}\n",
    "loan_df = loan_df.replace(mapping_dict)\n",
    "loan_df.loan_status.value_counts()"
   ]
  },
  {
   "cell_type": "markdown",
   "metadata": {},
   "source": [
    "let's also get rid of columns that only has 1 unique value (that won't give our model any info)"
   ]
  },
  {
   "cell_type": "code",
   "execution_count": 99,
   "metadata": {
    "collapsed": false
   },
   "outputs": [
    {
     "name": "stdout",
     "output_type": "stream",
     "text": [
      "['initial_list_status', 'collections_12_mths_ex_med', 'policy_code', 'application_type', 'acc_now_delinq', 'chargeoff_within_12_mths', 'delinq_amnt', 'tax_liens']\n"
     ]
    }
   ],
   "source": [
    "# let's check for columns with just one value\n",
    "cols_to_drop = []\n",
    "for col in loan_df.columns:\n",
    "    if len(loan_df[col].dropna().unique()) == 1:\n",
    "           cols_to_drop.append(col)\n",
    "\n",
    "print(cols_to_drop)\n",
    "loan_df.drop(cols_to_drop, axis=1, inplace=True)    "
   ]
  },
  {
   "cell_type": "code",
   "execution_count": 100,
   "metadata": {
    "collapsed": false
   },
   "outputs": [
    {
     "name": "stdout",
     "output_type": "stream",
     "text": [
      "n    39238\n",
      "y        1\n",
      "Name: pymnt_plan, dtype: int64\n"
     ]
    }
   ],
   "source": [
    "# this one has only 1 value for 1 ....\n",
    "print(loan_df.pymnt_plan.value_counts())\n",
    "loan_df.drop('pymnt_plan', axis=1, inplace=True) # get rid of it"
   ]
  },
  {
   "cell_type": "markdown",
   "metadata": {},
   "source": [
    "Now we are going to work on the features that still have missing values, we can:\n",
    "\n",
    "* remove rows\n",
    "* set new value (other, min, max, mean, etc ..)\n",
    "* regress new value based on other columns\n",
    "* ...\n"
   ]
  },
  {
   "cell_type": "code",
   "execution_count": 101,
   "metadata": {
    "collapsed": false
   },
   "outputs": [
    {
     "data": {
      "text/plain": [
       "loan_amnt                     0\n",
       "term                          0\n",
       "int_rate                      0\n",
       "installment                   0\n",
       "emp_title                  2426\n",
       "emp_length                    0\n",
       "home_ownership                0\n",
       "annual_inc                    0\n",
       "verification_status           0\n",
       "loan_status                   0\n",
       "purpose                       0\n",
       "title                        10\n",
       "addr_state                    0\n",
       "dti                           0\n",
       "delinq_2yrs                   0\n",
       "earliest_cr_line              0\n",
       "inq_last_6mths                0\n",
       "mths_since_last_delinq    25352\n",
       "open_acc                      0\n",
       "pub_rec                       0\n",
       "revol_bal                     0\n",
       "revol_util                   50\n",
       "total_acc                     0\n",
       "last_credit_pull_d            2\n",
       "pub_rec_bankruptcies        697\n",
       "dtype: int64"
      ]
     },
     "execution_count": 101,
     "metadata": {},
     "output_type": "execute_result"
    }
   ],
   "source": [
    "loan_df.isnull().sum()"
   ]
  },
  {
   "cell_type": "markdown",
   "metadata": {},
   "source": [
    "After checking the variables let's manage missing values, we'll:\n",
    "\n",
    "* remove column emp_title. There are too many missing values and it relates with 'title'\n",
    "* Fill missing values with the median to 'mths_since_last_delinq'\n",
    "* Remove rows with missing values on pandas data frame"
   ]
  },
  {
   "cell_type": "code",
   "execution_count": 102,
   "metadata": {
    "collapsed": false
   },
   "outputs": [
    {
     "data": {
      "text/plain": [
       "loan_amnt                 0\n",
       "term                      0\n",
       "int_rate                  0\n",
       "installment               0\n",
       "emp_length                0\n",
       "home_ownership            0\n",
       "annual_inc                0\n",
       "verification_status       0\n",
       "loan_status               0\n",
       "purpose                   0\n",
       "title                     0\n",
       "addr_state                0\n",
       "dti                       0\n",
       "delinq_2yrs               0\n",
       "earliest_cr_line          0\n",
       "inq_last_6mths            0\n",
       "mths_since_last_delinq    0\n",
       "open_acc                  0\n",
       "pub_rec                   0\n",
       "revol_bal                 0\n",
       "revol_util                0\n",
       "total_acc                 0\n",
       "last_credit_pull_d        0\n",
       "pub_rec_bankruptcies      0\n",
       "dtype: int64"
      ]
     },
     "execution_count": 102,
     "metadata": {},
     "output_type": "execute_result"
    }
   ],
   "source": [
    "# fix missing values in columns\n",
    "loan_df.drop('emp_title', axis=1, inplace=True)\n",
    "#loan_df.mths_since_last_delinq = loan_df.mths_since_last_delinq.fillna(loan_df.mths_since_last_delinq.median())\n",
    "#loan_df.pub_rec_bankruptcies = loan_df.pub_rec_bankruptcies.fillna(0)\n",
    "# remove rows with missing values\n",
    "loan_df.dropna(axis=0, inplace=True)\n",
    "# check missing values again (should be none)\n",
    "loan_df.isnull().sum()"
   ]
  },
  {
   "cell_type": "markdown",
   "metadata": {},
   "source": [
    "Let's focus now on the text columns. We need to convert them to numerical "
   ]
  },
  {
   "cell_type": "code",
   "execution_count": 103,
   "metadata": {
    "collapsed": false
   },
   "outputs": [
    {
     "name": "stdout",
     "output_type": "stream",
     "text": [
      "float64    12\n",
      "object     11\n",
      "int64       1\n",
      "dtype: int64\n"
     ]
    },
    {
     "data": {
      "text/plain": [
       "term                         36 months\n",
       "int_rate                        13.49%\n",
       "emp_length                   10+ years\n",
       "home_ownership                    RENT\n",
       "verification_status    Source Verified\n",
       "purpose                          other\n",
       "title                         personel\n",
       "addr_state                          CA\n",
       "earliest_cr_line              Feb-1996\n",
       "revol_util                         21%\n",
       "last_credit_pull_d            Apr-2016\n",
       "Name: 3, dtype: object"
      ]
     },
     "execution_count": 103,
     "metadata": {},
     "output_type": "execute_result"
    }
   ],
   "source": [
    "print(loan_df.dtypes.value_counts())\n",
    "# show an example of object columns\n",
    "loan_df.select_dtypes(include=['object']).iloc[0]"
   ]
  },
  {
   "cell_type": "markdown",
   "metadata": {},
   "source": [
    "Let's first convert revol_util and int_rate to numerical values"
   ]
  },
  {
   "cell_type": "code",
   "execution_count": 104,
   "metadata": {
    "collapsed": false
   },
   "outputs": [],
   "source": [
    "loan_df.int_rate = loan_df.int_rate.map(lambda x: float(x[:-1]))\n",
    "loan_df.revol_util = loan_df.revol_util.map(lambda x: float(x[:-1]))\n",
    "loan_df.term = loan_df.term.map(lambda x: int(x.split()[0]))"
   ]
  },
  {
   "cell_type": "code",
   "execution_count": 105,
   "metadata": {
    "collapsed": false
   },
   "outputs": [
    {
     "data": {
      "text/plain": [
       " 10    3162\n",
       " 2     1402\n",
       " 3     1359\n",
       " 0     1337\n",
       " 4     1169\n",
       " 5     1080\n",
       " 1     1021\n",
       " 6      744\n",
       " 7      630\n",
       " 8      528\n",
       " 9      407\n",
       "-1      340\n",
       "Name: emp_length, dtype: int64"
      ]
     },
     "execution_count": 105,
     "metadata": {},
     "output_type": "execute_result"
    }
   ],
   "source": [
    "# term\n",
    "loan_df.emp_length.value_counts()\n",
    "mapping_dict = {'emp_length':{\n",
    "        '10+ years':'10',\n",
    "        '< 1 year':'0',\n",
    "        'n/a':'-1'\n",
    "    }\n",
    "}\n",
    "loan_df = loan_df.replace(mapping_dict)\n",
    "loan_df.emp_length = loan_df.emp_length.map(lambda x: int(x.split()[0]))\n",
    "loan_df.emp_length.value_counts()"
   ]
  },
  {
   "cell_type": "markdown",
   "metadata": {},
   "source": [
    "To work with the column title we are going to:\n",
    "\n",
    "* Set to lowercase\n",
    "* Tokenize\n",
    "* Remove stopwords \n",
    "* Snowball stemmer\n",
    "* tf-idf\n",
    "* SVD (n=5)\n",
    "* Add the 5 resulting columns to our data frame"
   ]
  },
  {
   "cell_type": "code",
   "execution_count": 106,
   "metadata": {
    "collapsed": false
   },
   "outputs": [],
   "source": [
    "tokenizer = RegexpTokenizer(r'\\w+')\n",
    "title_tokens = loan_df['title'].map(lambda x: tokenizer.tokenize(x.lower()))\n",
    "title_tokens_filter = title_tokens.map(lambda x: [word for word in x if word not in stopwords.words('english')])\n",
    "title_tokens_filter = title_tokens_filter.map(lambda x: ['empty'] if x == [] else x)\n",
    "sbst = SnowballStemmer(language='english')\n",
    "title_tokens_filter_stem = title_tokens_filter.map(lambda x: sbst.stem((' ').join(x)))\n",
    "\n",
    "#tfidf\n",
    "tfidf = TfidfVectorizer(ngram_range=(1, 3), stop_words='english')\n",
    "tfidf_values = tfidf.fit_transform(title_tokens_filter_stem)\n",
    "tsvd = TruncatedSVD(n_components=15, random_state = 1)\n",
    "tfidf_values_truncatedSVD = tsvd.fit_transform(tfidf_values)\n",
    "\n",
    "#drop original title column\n",
    "loan_df.drop('title',1, inplace=True)"
   ]
  },
  {
   "cell_type": "markdown",
   "metadata": {},
   "source": [
    "for earliest_cr_line, last_credit_pull_d we want to get month and year in numbers, I create float that will tell me year and month (year + month/13)"
   ]
  },
  {
   "cell_type": "code",
   "execution_count": 107,
   "metadata": {
    "collapsed": false
   },
   "outputs": [],
   "source": [
    "# convert to date\n",
    "earliest_cr_line = pd.to_datetime(loan_df.earliest_cr_line)\n",
    "last_credit_pull_d = pd.to_datetime(loan_df.last_credit_pull_d)\n",
    "# extract month and year\n",
    "earliest_cr_line_year = earliest_cr_line.map(lambda x: x.year)\n",
    "earliest_cr_line_month = earliest_cr_line.map(lambda x: x.month)\n",
    "last_credit_pull_d_year = last_credit_pull_d.map(lambda x: x.year)\n",
    "last_credit_pull_d_month = last_credit_pull_d.map(lambda x: x.month)\n",
    "# create float with year + month/13\n",
    "loan_df.earliest_cr_line = earliest_cr_line_year + earliest_cr_line_month/13\n",
    "loan_df.last_credit_pull_d = last_credit_pull_d_year + last_credit_pull_d_month/13\n",
    "loan_df['earliest_cr_line_month'] = earliest_cr_line_month\n",
    "loan_df['last_credit_pull_d_month'] = last_credit_pull_d_month"
   ]
  },
  {
   "cell_type": "markdown",
   "metadata": {},
   "source": [
    "purpose, verification_status, home_ownership, and addr_state as dummies because they don't have many values (maybe we could skip state)"
   ]
  },
  {
   "cell_type": "code",
   "execution_count": 108,
   "metadata": {
    "collapsed": false
   },
   "outputs": [],
   "source": [
    "loan_df = pd.concat([loan_df, pd.get_dummies(loan_df.purpose)], axis=1)\n",
    "loan_df = pd.concat([loan_df, pd.get_dummies(loan_df.verification_status)], axis=1)\n",
    "loan_df = pd.concat([loan_df, pd.get_dummies(loan_df.home_ownership)], axis=1)\n",
    "loan_df = pd.concat([loan_df, pd.get_dummies(loan_df.addr_state)], axis=1)\n",
    "loan_df = pd.concat([loan_df, pd.get_dummies(loan_df.earliest_cr_line_month)], axis=1)\n",
    "loan_df = pd.concat([loan_df, pd.get_dummies(loan_df.last_credit_pull_d_month)], axis=1)\n",
    "loan_df = pd.concat([loan_df.reset_index(drop=True), pd.DataFrame(tfidf_values_truncatedSVD)], axis=1)\n",
    "\n",
    "loan_df.drop(['purpose','verification_status','home_ownership','addr_state',\n",
    "              'mths_since_last_delinq','last_credit_pull_d_month','earliest_cr_line_month'], axis=1, inplace=True)"
   ]
  },
  {
   "cell_type": "markdown",
   "metadata": {},
   "source": [
    "Let's save the processed data frame to apply our model"
   ]
  },
  {
   "cell_type": "code",
   "execution_count": 109,
   "metadata": {
    "collapsed": true
   },
   "outputs": [],
   "source": [
    "# save processed data\n",
    "loan_df.to_csv(\".\\\\data_processed\\loans.csv\",index=False,encoding='utf8')"
   ]
  },
  {
   "cell_type": "markdown",
   "metadata": {
    "collapsed": true
   },
   "source": [
    "Now we have data ready to apply some machine learning models. Or objective is to achive TPR > 50% adn FPR < 7%.\n",
    "We'll try logistic regression and random forest. On both models we'll use the param weights to account for class imbalace."
   ]
  },
  {
   "cell_type": "markdown",
   "metadata": {},
   "source": [
    "## MODELS\n",
    "\n",
    "Remember that our objective is to get TPR > 70% and FPR < 7% for both LR and RF"
   ]
  },
  {
   "cell_type": "code",
   "execution_count": 116,
   "metadata": {
    "collapsed": false
   },
   "outputs": [],
   "source": [
    "#penalty = {0: 4,1: 1}\n",
    "\n",
    "lr = LogisticRegression(class_weight='balanced', random_state = 3, penalty='l2', C=2)\n",
    "rf = RandomForestClassifier(n_estimators=400, min_samples_leaf=400, class_weight='balanced',random_state=3)\n",
    "selection_param = 0.001"
   ]
  },
  {
   "cell_type": "markdown",
   "metadata": {},
   "source": [
    "## FEATURE SELECTION (RF) / OVERSAMPLING"
   ]
  },
  {
   "cell_type": "code",
   "execution_count": 117,
   "metadata": {
    "collapsed": false
   },
   "outputs": [
    {
     "data": {
      "text/plain": [
       "[(0.4118, 'last_credit_pull_d'),\n",
       " (0.32319999999999999, '9.1'),\n",
       " (0.037900000000000003, 'int_rate'),\n",
       " (0.035299999999999998, 'term'),\n",
       " (0.016500000000000001, '3.1'),\n",
       " (0.016400000000000001, '7.1'),\n",
       " (0.0161, 'annual_inc'),\n",
       " (0.015900000000000001, '4.1'),\n",
       " (0.0137, '8.1'),\n",
       " (0.010800000000000001, '6.1'),\n",
       " (0.0099000000000000008, '5.1'),\n",
       " (0.0095999999999999992, '2.1'),\n",
       " (0.0076, '12.1'),\n",
       " (0.0074000000000000003, '11.1'),\n",
       " (0.0051000000000000004, '1.1'),\n",
       " (0.0047999999999999996, '10.1'),\n",
       " (0.0040000000000000001, 'revol_util'),\n",
       " (0.0033, 'earliest_cr_line'),\n",
       " (0.0032000000000000002, 'loan_amnt'),\n",
       " (0.0027000000000000001, '8.2'),\n",
       " (0.0023999999999999998, 'revol_bal'),\n",
       " (0.0022000000000000001, 'inq_last_6mths'),\n",
       " (0.0022000000000000001, 'total_acc'),\n",
       " (0.0020999999999999999, 'dti'),\n",
       " (0.002, 'installment'),\n",
       " (0.002, '3.2'),\n",
       " (0.002, '9.2'),\n",
       " (0.002, '13'),\n",
       " (0.0019, '1.2'),\n",
       " (0.0019, '7.2'),\n",
       " (0.0018, 'small_business'),\n",
       " (0.0016000000000000001, 'open_acc'),\n",
       " (0.0016000000000000001, '0'),\n",
       " (0.0016000000000000001, '6.2'),\n",
       " (0.0015, '4.2'),\n",
       " (0.0014, '2.2'),\n",
       " (0.0012999999999999999, 'emp_length'),\n",
       " (0.0012999999999999999, '5.2'),\n",
       " (0.0012999999999999999, '11.2'),\n",
       " (0.0012999999999999999, '12.2'),\n",
       " (0.0012999999999999999, '14'),\n",
       " (0.0011000000000000001, '10.2')]"
      ]
     },
     "execution_count": 117,
     "metadata": {},
     "output_type": "execute_result"
    }
   ],
   "source": [
    "loan_df = pd.read_csv(\".\\\\data_processed\\loans.csv\")\n",
    "#loan_df_0 = loan_df[loan_df[\"loan_status\"]==0]\n",
    "#loan_df = pd.concat([loan_df,loan_df_0],ignore_index=True)\n",
    "#loan_df = pd.concat([loan_df,loan_df_0],ignore_index=True)\n",
    "#loan_df = pd.concat([loan_df,loan_df_0],ignore_index=True)\n",
    "#loan_df = pd.concat([loan_df,loan_df_0],ignore_index=True)\n",
    "#loan_df = pd.concat([loan_df,loan_df_0],ignore_index=True)\n",
    "#loan_df = pd.concat([loan_df,loan_df_0],ignore_index=True)\n",
    "\n",
    "features = loan_df.drop(\"loan_status\", 1)\n",
    "target = loan_df.loan_status\n",
    "\n",
    "rfsel = RandomForestClassifier(n_estimators=500, min_samples_leaf=200, class_weight='balanced',random_state=2)\n",
    "rfsel.fit(features, target)\n",
    "\n",
    "features_lb = sorted(zip(map(lambda x: round(x, 4), rfsel.feature_importances_), features.columns), reverse=True, key=lambda pair: pair[0])\n",
    "columns = [features_lb[i][1] for i in range(0,10)] \n",
    "\n",
    "\n",
    "features = features[[i[1] for i in features_lb if i[0]>selection_param]]\n",
    "sd = StandardScaler()\n",
    "features = sd.fit_transform(features)\n",
    "\n",
    "[i for i in features_lb if i[0]>selection_param]"
   ]
  },
  {
   "cell_type": "markdown",
   "metadata": {},
   "source": [
    "## LOGISTIC REGRESSION -  TRAIN-TEST "
   ]
  },
  {
   "cell_type": "code",
   "execution_count": 118,
   "metadata": {
    "collapsed": false
   },
   "outputs": [
    {
     "name": "stdout",
     "output_type": "stream",
     "text": [
      "TPR:  0.6969968623935455\n",
      "FPR:  0.044444444444444446\n",
      "CONFUSION MATRIX:\n",
      "TN:  387    FP:  18\n",
      "FN:  676    TP:  1555\n"
     ]
    },
    {
     "data": {
      "image/png": "[encoded data removed]",
      "text/plain": [
       "<matplotlib.figure.Figure at 0xba04198>"
      ]
     },
     "metadata": {},
     "output_type": "display_data"
    }
   ],
   "source": [
    "X_train, X_test, y_train, y_test = train_test_split(features, target, stratify=target,test_size=0.20)\n",
    "\n",
    "lr.fit(X_train, y_train)\n",
    "\n",
    "predictions = lr.predict(X_test)\n",
    "predictions = pd.Series(predictions)\n",
    "\n",
    "tn = len(predictions[(predictions == 0) & (y_test.values==0)])  \n",
    "tp = len(predictions[(predictions == 1) & (y_test.values==1)]) \n",
    "fn = len(predictions[(predictions == 0) & (y_test.values==1)])  \n",
    "fp = len(predictions[(predictions == 1) & (y_test.values==0)]) \n",
    "fpr = fp / (fp + tn)\n",
    "tpr = tp / (tp + fn)\n",
    "\n",
    "print('TPR: ',tpr)\n",
    "print('FPR: ',fpr)\n",
    "fprpoints, tprpoints, thresholds = roc_curve(y_test, predictions)\n",
    "print('CONFUSION MATRIX:')\n",
    "cm = confusion_matrix(y_test,predictions)\n",
    "print('TN: ',cm[0,0], '   FP: ',cm[0,1])\n",
    "print('FN: ',cm[1,0], '   TP: ',cm[1,1])\n",
    "plt.figure()\n",
    "lw = 2\n",
    "plt.plot(fprpoints, tprpoints, color='darkorange', lw=lw, label='ROC curve (area = %0.2f)' % auc(fprpoints,tprpoints))\n",
    "plt.plot([0, 1], [0, 1], color='navy', lw=lw, linestyle='--')\n",
    "plt.xlim([0.0, 1.0])\n",
    "plt.ylim([0.0, 1.05])\n",
    "plt.xlabel('False Positive Rate')\n",
    "plt.ylabel('True Positive Rate')\n",
    "plt.title('Receiver operating characteristic example')\n",
    "plt.legend(loc=\"lower right\")\n",
    "plt.show()"
   ]
  },
  {
   "cell_type": "markdown",
   "metadata": {},
   "source": [
    "## LOGISTIC REGRESSION - CV"
   ]
  },
  {
   "cell_type": "code",
   "execution_count": 113,
   "metadata": {
    "collapsed": false
   },
   "outputs": [
    {
     "name": "stdout",
     "output_type": "stream",
     "text": [
      "TPR:  0.6923352756611385\n",
      "FPR:  0.07114624505928854\n",
      "CONFUSION MATRIX:\n",
      "TN:  1880    FP:  144\n",
      "FN:  3432    TP:  7723\n"
     ]
    },
    {
     "data": {
      "image/png": "[encoded data removed]",
      "text/plain": [
       "<matplotlib.figure.Figure at 0xb5ace10>"
      ]
     },
     "metadata": {},
     "output_type": "display_data"
    }
   ],
   "source": [
    "kf = KFold(features.shape[0], random_state=1)\n",
    "\n",
    "predictions = cross_val_predict(lr, features, target,cv=kf)\n",
    "predictions = pd.Series(predictions)\n",
    "\n",
    "tn = len(predictions[(predictions == 0) & (target==0)])  \n",
    "tp = len(predictions[(predictions == 1) & (target==1)]) \n",
    "fn = len(predictions[(predictions == 0) & (target==1)])  \n",
    "fp = len(predictions[(predictions == 1) & (target==0)]) \n",
    "fpr = fp / (fp + tn)\n",
    "tpr = tp / (tp + fn)\n",
    "\n",
    "print('TPR: ',tpr)\n",
    "print('FPR: ',fpr)\n",
    "fprpoints, tprpoints, thresholds = roc_curve(target, predictions)\n",
    "print('CONFUSION MATRIX:')\n",
    "cm = confusion_matrix(target,predictions)\n",
    "print('TN: ',cm[0,0], '   FP: ',cm[0,1])\n",
    "print('FN: ',cm[1,0], '   TP: ',cm[1,1])\n",
    "plt.figure()\n",
    "lw = 2\n",
    "plt.plot(fprpoints, tprpoints, color='darkorange', lw=lw, label='ROC curve (area = %0.2f)' % auc(fprpoints,tprpoints))\n",
    "plt.plot([0, 1], [0, 1], color='navy', lw=lw, linestyle='--')\n",
    "plt.xlim([0.0, 1.0])\n",
    "plt.ylim([0.0, 1.05])\n",
    "plt.xlabel('False Positive Rate')\n",
    "plt.ylabel('True Positive Rate')\n",
    "plt.title('Receiver operating characteristic example')\n",
    "plt.legend(loc=\"lower right\")\n",
    "plt.show()"
   ]
  },
  {
   "cell_type": "markdown",
   "metadata": {},
   "source": [
    "## RANDOM FOREST -  TRAIN-TEST "
   ]
  },
  {
   "cell_type": "code",
   "execution_count": 114,
   "metadata": {
    "collapsed": false
   },
   "outputs": [
    {
     "name": "stdout",
     "output_type": "stream",
     "text": [
      "TPR:  0.6943074854325415\n",
      "FPR:  0.04197530864197531\n",
      "CONFUSION MATRIX:\n",
      "TN:  388    FP:  17\n",
      "FN:  682    TP:  1549\n"
     ]
    },
    {
     "data": {
      "image/png": "[encoded data removed]",
      "text/plain": [
       "<matplotlib.figure.Figure at 0x1a685668>"
      ]
     },
     "metadata": {},
     "output_type": "display_data"
    }
   ],
   "source": [
    "X_train, X_test, y_train, y_test = train_test_split(features, target, stratify=target,test_size=0.20)\n",
    "\n",
    "rf.fit(X_train, y_train)\n",
    "\n",
    "predictions = rf.predict(X_test)\n",
    "predictions = pd.Series(predictions)\n",
    "\n",
    "tn = len(predictions[(predictions == 0) & (y_test.values==0)])  \n",
    "tp = len(predictions[(predictions == 1) & (y_test.values==1)]) \n",
    "fn = len(predictions[(predictions == 0) & (y_test.values==1)])  \n",
    "fp = len(predictions[(predictions == 1) & (y_test.values==0)]) \n",
    "fpr = fp / (fp + tn)\n",
    "tpr = tp / (tp + fn)\n",
    "\n",
    "print('TPR: ',tpr)\n",
    "print('FPR: ',fpr)\n",
    "fprpoints, tprpoints, thresholds = roc_curve(y_test, predictions)\n",
    "print('CONFUSION MATRIX:')\n",
    "cm = confusion_matrix(y_test,predictions)\n",
    "print('TN: ',cm[0,0], '   FP: ',cm[0,1])\n",
    "print('FN: ',cm[1,0], '   TP: ',cm[1,1])\n",
    "plt.figure()\n",
    "lw = 2\n",
    "plt.plot(fprpoints, tprpoints, color='darkorange', lw=lw, label='ROC curve (area = %0.2f)' % auc(fprpoints,tprpoints))\n",
    "plt.plot([0, 1], [0, 1], color='navy', lw=lw, linestyle='--')\n",
    "plt.xlim([0.0, 1.0])\n",
    "plt.ylim([0.0, 1.05])\n",
    "plt.xlabel('False Positive Rate')\n",
    "plt.ylabel('True Positive Rate')\n",
    "plt.title('Receiver operating characteristic example')\n",
    "plt.legend(loc=\"lower right\")\n",
    "plt.show()"
   ]
  },
  {
   "cell_type": "markdown",
   "metadata": {},
   "source": [
    "## RANDOM FOREST -  CV"
   ]
  },
  {
   "cell_type": "code",
   "execution_count": 115,
   "metadata": {
    "collapsed": false
   },
   "outputs": [
    {
     "name": "stdout",
     "output_type": "stream",
     "text": [
      "TPR:  0.7076647243388615\n",
      "FPR:  0.046442687747035576\n",
      "CONFUSION MATRIX:\n",
      "TN:  1930    FP:  94\n",
      "FN:  3261    TP:  7894\n"
     ]
    },
    {
     "data": {
      "image/png": "[encoded data removed]",
      "text/plain": [
       "<matplotlib.figure.Figure at 0x146fdf98>"
      ]
     },
     "metadata": {},
     "output_type": "display_data"
    }
   ],
   "source": [
    "kf = KFold(features.shape[0], random_state=1)\n",
    "\n",
    "predictions = cross_val_predict(rf, features, target,cv=kf)\n",
    "predictions = pd.Series(predictions)\n",
    "\n",
    "tn = len(predictions[(predictions == 0) & (target==0)])  \n",
    "tp = len(predictions[(predictions == 1) & (target==1)]) \n",
    "fn = len(predictions[(predictions == 0) & (target==1)])  \n",
    "fp = len(predictions[(predictions == 1) & (target==0)]) \n",
    "\n",
    "fpr = fp / (fp + tn)\n",
    "tpr = tp / (tp + fn)\n",
    "\n",
    "print('TPR: ',tpr)\n",
    "print('FPR: ',fpr)\n",
    "fprpoints, tprpoints, thresholds = roc_curve(target, predictions)\n",
    "print('CONFUSION MATRIX:')\n",
    "cm = confusion_matrix(target,predictions)\n",
    "print('TN: ',cm[0,0], '   FP: ',cm[0,1])\n",
    "print('FN: ',cm[1,0], '   TP: ',cm[1,1])\n",
    "plt.figure()\n",
    "lw = 2\n",
    "plt.plot(fprpoints, tprpoints, color='darkorange', lw=lw, label='ROC curve (area = %0.2f)' % auc(fprpoints,tprpoints))\n",
    "plt.plot([0, 1], [0, 1], color='navy', lw=lw, linestyle='--')\n",
    "plt.xlim([0.0, 1.0])\n",
    "plt.ylim([0.0, 1.05])\n",
    "plt.xlabel('False Positive Rate')\n",
    "plt.ylabel('True Positive Rate')\n",
    "plt.title('Receiver operating characteristic example')\n",
    "plt.legend(loc=\"lower right\")\n",
    "plt.show()"
   ]
  },
  {
   "cell_type": "markdown",
   "metadata": {},
   "source": [
    "## CONCLUSIONS"
   ]
  },
  {
   "cell_type": "markdown",
   "metadata": {
    "collapsed": true
   },
   "source": [
    "We were able to get TPR > 70% and FPR < 7% for both RF and LR (aprox)"
   ]
  },
  {
   "cell_type": "markdown",
   "metadata": {},
   "source": [
    "## TO DO NEXT\n",
    "\n",
    "* Understand how each feature affect the output (check LG coefficients). \n"
   ]
  }
 ],
 "metadata": {
  "kernelspec": {
   "display_name": "Python 3",
   "language": "python",
   "name": "python3"
  },
  "language_info": {
   "codemirror_mode": {
    "name": "ipython",
    "version": 3
   },
   "file_extension": ".py",
   "mimetype": "text/x-python",
   "name": "python",
   "nbconvert_exporter": "python",
   "pygments_lexer": "ipython3",
   "version": "3.5.1"
  }
 },
 "nbformat": 4,
 "nbformat_minor": 0
}
